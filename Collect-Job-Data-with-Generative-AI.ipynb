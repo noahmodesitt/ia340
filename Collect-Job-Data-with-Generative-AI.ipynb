{
 "cells": [
  {
   "cell_type": "markdown",
   "id": "5c9b462b-2760-4271-a059-26dc05f2676c",
   "metadata": {
    "tags": []
   },
   "source": [
    "# Collect Job Data with Generative AI"
   ]
  },
  {
   "cell_type": "markdown",
   "id": "ba015818-4711-4117-be78-5f1a67abacf9",
   "metadata": {},
   "source": [
    "This notebook demonstrates how to collect job posts from [USAJOBS](https://developer.usajobs.gov/). \n",
    "\n",
    "Please note:\n",
    "- If you find a data source that provides direct data download, downloading data is the easiest way.\n",
    "- Otherwise, APIs can be used with the assistance of AI to collect data.\n",
    "- Please avoid web crawling with AI, and always check the [robots.txt](https://developers.google.com/search/docs/crawling-indexing/robots/intro) file before crawling a website."
   ]
  },
  {
   "cell_type": "markdown",
   "id": "a8dcf1ab-978e-4bbc-bd91-3f205d76ef70",
   "metadata": {},
   "source": [
    "## Set up a Database and Request API Keys"
   ]
  },
  {
   "cell_type": "markdown",
   "id": "b98abb53-0b08-4762-bd0a-d86026790c8b",
   "metadata": {},
   "source": [
    "Create a [MongoDB](www.mongodb.com) cluster and store the connection string in a safe place, such as AWS Secrets Manager. \n",
    "- key name: `api_key`\n",
    "- key value: <`the connection string`>, you need to type the password\n",
    "- secret name: `mongodb`\n",
    "\n",
    "Request a [USAJOBS API key](https://developer.usajobs.gov/apirequest/) and store the key in a safe place, such as AWS Secrets Manager. \n",
    "- key name: `api_key`\n",
    "- key value: <`the API key you received in email`>\n",
    "- secret name: `usajobs`\n",
    "\n",
    "You also need to store your email in AWS Secrets Manager:\n",
    "- key name: `address`\n",
    "- key value: <`the email you used in applying the API key`>\n",
    "- secret name: `email`"
   ]
  },
  {
   "cell_type": "markdown",
   "id": "e70828b2-923a-4fd6-b2aa-85bceaff0576",
   "metadata": {},
   "source": [
    "## Install Python Packages"
   ]
  },
  {
   "cell_type": "markdown",
   "id": "51a728cd-50a4-40a7-978b-0f667e975d96",
   "metadata": {},
   "source": [
    "- jupyter-ai: the JupyterLab extension to call Generative AI models\n",
    "- langchain-openai: the LangChain package to interact with OpenAI\n",
    "- pymongo: manage the MongoDB database"
   ]
  },
  {
   "cell_type": "code",
   "execution_count": null,
   "id": "66326769-b881-43bf-83f8-d051961e40c7",
   "metadata": {
    "scrolled": true,
    "tags": []
   },
   "outputs": [],
   "source": [
    "pip install jupyter-ai~=1.0 # Because I am using JupyterLab V3, I need to use Jupyter-ai V1.0"
   ]
  },
  {
   "cell_type": "code",
   "execution_count": null,
   "id": "0ff686ae-4c87-41fb-882d-5e6759e6a27d",
   "metadata": {
    "scrolled": true,
    "tags": []
   },
   "outputs": [],
   "source": [
    "pip install jupyter-ai[all] # execute this cell if the AI model not in the ai list"
   ]
  },
  {
   "cell_type": "code",
   "execution_count": null,
   "id": "bce0469e-7e3f-4c16-b91d-316adcc4c36e",
   "metadata": {},
   "outputs": [],
   "source": [
    "pip install langchain-openai # skip this if you pip install jupyter-ai[all]"
   ]
  },
  {
   "cell_type": "code",
   "execution_count": null,
   "id": "56c8fd1c-6e79-4d68-b900-640d785b93b6",
   "metadata": {
    "tags": []
   },
   "outputs": [],
   "source": [
    "pip install pymongo"
   ]
  },
  {
   "cell_type": "markdown",
   "id": "bba375f7-26e1-47f5-b6a6-b37c657ce8bd",
   "metadata": {},
   "source": [
    "## Secrets Manager Function"
   ]
  },
  {
   "cell_type": "code",
   "execution_count": null,
   "id": "e5c59ad0-b012-436d-9550-ad207946b1ec",
   "metadata": {
    "tags": []
   },
   "outputs": [],
   "source": [
    "import boto3\n",
    "from botocore.exceptions import ClientError\n",
    "import json\n",
    "\n",
    "def get_secret(secret_name):\n",
    "    region_name = \"us-east-1\"\n",
    "\n",
    "    # Create a Secrets Manager client\n",
    "    session = boto3.session.Session()\n",
    "    client = session.client(\n",
    "        service_name='secretsmanager',\n",
    "        region_name=region_name\n",
    "    )\n",
    "\n",
    "    try:\n",
    "        get_secret_value_response = client.get_secret_value(\n",
    "            SecretId=secret_name\n",
    "        )\n",
    "    except ClientError as e:\n",
    "        raise e\n",
    "\n",
    "    secret = get_secret_value_response['SecretString']\n",
    "    \n",
    "    return json.loads(secret)"
   ]
  },
  {
   "cell_type": "markdown",
   "id": "d8eb6454-f57a-42a6-a868-5026c6c56d6a",
   "metadata": {},
   "source": [
    "## Import Python Libraries and Credentials"
   ]
  },
  {
   "cell_type": "code",
   "execution_count": null,
   "id": "1fc6fc83-63fd-4f5b-9be2-1078fd538c1e",
   "metadata": {
    "tags": []
   },
   "outputs": [],
   "source": [
    "import pymongo\n",
    "from pymongo import MongoClient\n",
    "import json\n",
    "import re\n",
    "import os\n",
    "\n",
    "os.environ[\"OPENAI_API_KEY\"] = get_secret('openai')['api_key']\n",
    "email = get_secret('email')['address']\n",
    "mongodb_connect = get_secret('mongodb')['connection_string']\n",
    "usa_jobs_key = get_secret('usajobs')['api_key']"
   ]
  },
  {
   "cell_type": "markdown",
   "id": "518c94f6-096d-4e64-8ece-92f84625ebf2",
   "metadata": {},
   "source": [
    "## Connect to the MongoDB cluster"
   ]
  },
  {
   "cell_type": "code",
   "execution_count": null,
   "id": "9692d990-d1a4-4406-9a6d-cafa57e6092b",
   "metadata": {
    "tags": []
   },
   "outputs": [],
   "source": [
    "mongo_client = MongoClient(mongodb_connect)\n",
    "db = mongo_client.demo # use or create a database named demo\n",
    "job_collection = db.job_collection #use or create a collection named job_collection\n"
   ]
  },
  {
   "cell_type": "markdown",
   "id": "cac7c169-ae33-43cc-97f3-01187799deb6",
   "metadata": {},
   "source": [
    "## Load the Jupyter AI Magic Commands"
   ]
  },
  {
   "cell_type": "code",
   "execution_count": null,
   "id": "d7b6fe67-cdc2-4435-8968-c1ab75115f41",
   "metadata": {
    "tags": []
   },
   "outputs": [],
   "source": [
    "%load_ext jupyter_ai_magics"
   ]
  },
  {
   "cell_type": "markdown",
   "id": "ee256bb9-9cd5-4f9b-b06f-60704dc7bc30",
   "metadata": {},
   "source": [
    "Check the available AI models, this is optional. "
   ]
  },
  {
   "cell_type": "code",
   "execution_count": null,
   "id": "770f1a96-35d7-451b-8a19-000588e6da15",
   "metadata": {
    "scrolled": true,
    "tags": []
   },
   "outputs": [],
   "source": [
    "%ai list"
   ]
  },
  {
   "cell_type": "markdown",
   "id": "2a690bee-d9c3-4d1c-88af-176b285fcb7b",
   "metadata": {},
   "source": [
    "## Example Prompt\n",
    "Bellow is a prompt that may create a workable code"
   ]
  },
  {
   "cell_type": "code",
   "execution_count": null,
   "id": "718050a7-6860-4223-9d77-5e68e8e18d98",
   "metadata": {
    "tags": []
   },
   "outputs": [],
   "source": [
    "%%ai gpt4 -f code\n",
    "write a python function to search jobs from usajobs,\n",
    "retrive the maximal results per page and maximal pages,\n",
    "extract the key informaiton in the search result,\n",
    "store each job in a seperate mongodb document,\n",
    "a mongodb database and collection is already set up,\n",
    "do not set up the mongodb client and collection, use the collection  direclty.\n",
    "user proivdes the agent, authorization key, job location, job keywords,  collection \n"
   ]
  },
  {
   "cell_type": "code",
   "execution_count": null,
   "id": "34ac2a32-2fce-469d-abb5-496008a5383d",
   "metadata": {
    "tags": []
   },
   "outputs": [],
   "source": [
    "import requests\n",
    "\n",
    "def search_usajobs(agent, auth_key, location, keywords, collection):\n",
    "    base_url = \"https://data.usajobs.gov/api/search\"\n",
    "    headers = {\n",
    "        \"User-Agent\": agent, \n",
    "        \"Authorization-Key\": auth_key,\n",
    "        \"Host\": \"data.usajobs.gov\"\n",
    "    }\n",
    "    params = {\n",
    "        \"LocationName\": location,\n",
    "        \"Keyword\": keywords,\n",
    "        \"ResultsPerPage\": 500\n",
    "    }\n",
    "\n",
    "    response = requests.get(base_url, headers=headers, params=params)\n",
    "    data = response.json()\n",
    "    num_pages = int(data['SearchResult']['UserArea']['NumberOfPages'])\n",
    "\n",
    "    for page in range(1, num_pages + 1):\n",
    "        params[\"Page\"] = page\n",
    "        response = requests.get(base_url, headers=headers, params=params)\n",
    "        data = response.json()\n",
    "        jobs = data['SearchResult']['SearchResultItems']\n",
    "\n",
    "        for job in jobs:\n",
    "            collection.insert_one(job)"
   ]
  },
  {
   "cell_type": "code",
   "execution_count": null,
   "id": "69625fa5-087c-4810-94ee-fd8e25e9ad00",
   "metadata": {
    "tags": []
   },
   "outputs": [],
   "source": [
    "search_usajobs(agent = email,\n",
    "               auth_key = usa_jobs_key, \n",
    "               location = \"Fairfax, VA\",\n",
    "               keywords= \"AI\",\n",
    "               collection= job_collection)\n",
    "\n",
    "\n"
   ]
  },
  {
   "cell_type": "markdown",
   "id": "47732f60-3255-4ccd-8d76-dd9e6025a359",
   "metadata": {},
   "source": [
    "## Example Code\n",
    "Bellow is a code generated by AI that works"
   ]
  },
  {
   "cell_type": "code",
   "execution_count": null,
   "id": "c6da74f7-84e2-49f0-b903-f1eebe0312e6",
   "metadata": {
    "tags": []
   },
   "outputs": [],
   "source": [
    "import requests\n",
    "\n",
    "def search_jobs(agent, auth_key, job_location, job_keywords, collection):\n",
    "    base_url = 'https://data.usajobs.gov/api/search'\n",
    "    headers = {'User-Agent': agent, 'Authorization-Key': auth_key}\n",
    "    params = {'LocationName': job_location, 'Keyword': job_keywords, 'ResultsPerPage': 500}\n",
    "\n",
    "    page = 1\n",
    "    while page <= 10:\n",
    "        params['Page'] = page\n",
    "        response = requests.get(base_url, headers=headers, params=params)\n",
    "        if response.status_code != 200:\n",
    "            break\n",
    "\n",
    "        job_data = response.json()\n",
    "        for job in job_data['SearchResult']['SearchResultItems']:\n",
    "            job_info = job['MatchedObjectDescriptor']\n",
    "            collection.insert_one(job_info)\n",
    "\n",
    "        page += 1"
   ]
  },
  {
   "cell_type": "markdown",
   "id": "dad51f6e-135e-40c5-8b4d-e6d7fa40dd9f",
   "metadata": {},
   "source": [
    "Use the AI-generated code to collect `AI-related` jobs in `Fairfax, VA`. We also pass the `job_collection`, `api_key`, and `email` to the function."
   ]
  },
  {
   "cell_type": "code",
   "execution_count": null,
   "id": "15c77125-6585-4072-bb80-8ed9f4ffd213",
   "metadata": {
    "tags": []
   },
   "outputs": [],
   "source": [
    "search_jobs(collection= job_collection,\n",
    "            auth_key=usa_jobs_key, \n",
    "            agent= email, \n",
    "            job_keywords= 'ai',\n",
    "            job_location= 'fairfax, va')"
   ]
  },
  {
   "cell_type": "markdown",
   "id": "c17b3236-987b-44e3-8a4a-196594d7eeb1",
   "metadata": {},
   "source": [
    "Display the number of collected jobs:"
   ]
  },
  {
   "cell_type": "code",
   "execution_count": null,
   "id": "8cf6df1a-4582-4505-8d2d-e63a6cdd9954",
   "metadata": {
    "tags": []
   },
   "outputs": [],
   "source": [
    "job_collection.estimated_document_count()"
   ]
  },
  {
   "cell_type": "code",
   "execution_count": null,
   "id": "e78cff2a-ab5a-4a43-b098-d833656fae68",
   "metadata": {},
   "outputs": [],
   "source": []
  }
 ],
 "metadata": {
  "kernelspec": {
   "display_name": "conda_python3",
   "language": "python",
   "name": "conda_python3"
  },
  "language_info": {
   "codemirror_mode": {
    "name": "ipython",
    "version": 3
   },
   "file_extension": ".py",
   "mimetype": "text/x-python",
   "name": "python",
   "nbconvert_exporter": "python",
   "pygments_lexer": "ipython3",
   "version": "3.10.14"
  }
 },
 "nbformat": 4,
 "nbformat_minor": 5
}
